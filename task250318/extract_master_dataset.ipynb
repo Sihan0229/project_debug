{
 "cells": [
  {
   "cell_type": "markdown",
   "metadata": {},
   "source": [
    "# Construct Master Dataset by linking different tables in MIMIC-IV-ED\n",
    "\n",
    "Note:  MIMIC-ED should be downloaded at “data/ed\" folder\n"
   ]
  },
  {
   "cell_type": "markdown",
   "metadata": {},
   "source": [
    "## Prepare Python library and raw data"
   ]
  },
  {
   "cell_type": "code",
   "execution_count": 54,
   "metadata": {},
   "outputs": [
    {
     "name": "stdout",
     "output_type": "stream",
     "text": [
      "Looking in indexes: http://mirrors.aliyun.com/pypi/simple\n",
      "Requirement already satisfied: tqdm in /root/.virtualenvs/MIMIC-IV-ED--CODE-main/lib/python3.8/site-packages (4.67.1)\n",
      "\n",
      "\u001b[1m[\u001b[0m\u001b[34;49mnotice\u001b[0m\u001b[1;39;49m]\u001b[0m\u001b[39;49m A new release of pip is available: \u001b[0m\u001b[31;49m23.2.1\u001b[0m\u001b[39;49m -> \u001b[0m\u001b[32;49m25.0.1\u001b[0m\n",
      "\u001b[1m[\u001b[0m\u001b[34;49mnotice\u001b[0m\u001b[1;39;49m]\u001b[0m\u001b[39;49m To update, run: \u001b[0m\u001b[32;49mpip install --upgrade pip\u001b[0m\n"
     ]
    }
   ],
   "source": [
    "! pip install tqdm"
   ]
  },
  {
   "cell_type": "code",
   "execution_count": 55,
   "metadata": {
    "tags": []
   },
   "outputs": [],
   "source": [
    "import argparse\n",
    "from helpers import *\n",
    "from medcode_utils import commorbidity, extract_icd_list"
   ]
  },
  {
   "cell_type": "code",
   "execution_count": 56,
   "metadata": {
    "tags": []
   },
   "outputs": [],
   "source": [
    "from dataset_path import mimic_iv_path, output_path"
   ]
  },
  {
   "cell_type": "code",
   "execution_count": 57,
   "metadata": {},
   "outputs": [],
   "source": [
    "output_path = '/tmp/pycharm_project_211/MIMIC-IV-ED--CODE-main/output'"
   ]
  },
  {
   "cell_type": "code",
   "execution_count": 58,
   "metadata": {},
   "outputs": [
    {
     "name": "stdout",
     "output_type": "stream",
     "text": [
      "/tmp/pycharm_project_211/MIMIC-IV-ED--CODE-main/output\n"
     ]
    }
   ],
   "source": [
    "print(output_path)"
   ]
  },
  {
   "cell_type": "code",
   "execution_count": 59,
   "metadata": {
    "tags": []
   },
   "outputs": [],
   "source": [
    "complaint_dict = {\"chiefcom_chest_pain\" : \"chest pain\", \"chiefcom_abdominal_pain\" : \"abdominal pain|abd pain\", \n",
    "\"chiefcom_headache\" : \"headache|lightheaded\", \"chiefcom_shortness_of_breath\" : \"breath\", \"chiefcom_back_pain\" : \"back pain\", \"chiefcom_cough\" : \"cough\", \n",
    "\"chiefcom_nausea_vomiting\" : \"nausea|vomit\", \"chiefcom_fever_chills\" : \"fever|chill\", \"chiefcom_syncope\" :\"syncope\", \"chiefcom_dizziness\" : \"dizz\"}\n",
    "\n",
    "## Defining health utilization timerange parameters in days\n",
    "icu_transfer_timerange = 12 # hours\n",
    "# past_ed_visits_timerange = 365\n",
    "# past_admissions_timerange = 365 \n",
    "# past_icu_visits_timerange = 365\n",
    "next_ed_visit_timerange = 3\n",
    "pd.set_option('display.max_columns', 100)\n"
   ]
  },
  {
   "cell_type": "markdown",
   "metadata": {},
   "source": [
    "## Load raw data tables through pandas library"
   ]
  },
  {
   "cell_type": "code",
   "execution_count": 60,
   "metadata": {
    "tags": []
   },
   "outputs": [],
   "source": [
    "## Reading main tables\n",
    "df_edstays = read_edstays_table(\"/tmp/pycharm_project_211/MIMIC-IV-ED--CODE-main/dataset/edstays.csv/edstays.csv\")\n",
    "df_patients = read_patients_table(\"/tmp/pycharm_project_211/MIMIC-IV-ED--CODE-main/dataset/patients.csv.gz\")\n",
    "df_admissions = read_admissions_table(\"/tmp/pycharm_project_211/MIMIC-IV-ED--CODE-main/dataset/admissions.csv.gz\")\n",
    "df_icustays = read_icustays_table(\"/tmp/pycharm_project_211/MIMIC-IV-ED--CODE-main/dataset/icustays.csv.gz\")\n",
    "df_triage = read_triage_table(\"/tmp/pycharm_project_211/MIMIC-IV-ED--CODE-main/dataset/triage.csv/triage.csv\")\n",
    "df_vitalsign = read_vitalsign_table(\"/tmp/pycharm_project_211/MIMIC-IV-ED--CODE-main/dataset/vitalsign.csv/vitalsign.csv\")\n",
    "df_pyxis = read_pyxis_table(\"/tmp/pycharm_project_211/MIMIC-IV-ED--CODE-main/dataset/pyxis.csv/pyxis.csv\")\n",
    "df_medrecon = read_pyxis_table(\"/tmp/pycharm_project_211/MIMIC-IV-ED--CODE-main/dataset/medrecon.csv/medrecon.csv\")\n",
    "df_diagnoses = read_diagnoses_table(\"/tmp/pycharm_project_211/MIMIC-IV-ED--CODE-main/dataset/diagnoses_icd.csv.gz\")\n"
   ]
  },
  {
   "cell_type": "code",
   "execution_count": 61,
   "metadata": {},
   "outputs": [],
   "source": [
    "#df_diagnoses_icd = read_diagnoses_table(\"/tmp/pycharm_project_211/MIMIC-IV-ED--CODE-main/dataset/diagnoses_icd.csv.gz\")"
   ]
  },
  {
   "cell_type": "markdown",
   "metadata": {},
   "source": [
    "## ED root table, demographic and outcomes"
   ]
  },
  {
   "cell_type": "code",
   "execution_count": 62,
   "metadata": {
    "tags": []
   },
   "outputs": [],
   "source": [
    "## Merging patients -> merging admissions -> merging triage -> master\n",
    "df_master = merge_edstays_patients_on_subject(df_edstays ,df_patients)\n",
    "df_master = merge_edstays_admissions_on_subject(df_master ,df_admissions)"
   ]
  },
  {
   "cell_type": "code",
   "execution_count": 63,
   "metadata": {
    "tags": []
   },
   "outputs": [
    {
     "name": "stdout",
     "output_type": "stream",
     "text": [
      "Process: 425087/425087\r"
     ]
    }
   ],
   "source": [
    "## Adding age, mortality and ICU transfer outcome\n",
    "df_master = add_age(df_master)\n",
    "df_master = add_inhospital_mortality(df_master)\n",
    "df_master = add_ed_los(df_master)\n",
    "df_master = add_outcome_icu_transfer(df_master, df_icustays, icu_transfer_timerange)\n",
    "df_master['outcome_hospitalization'] = ~pd.isnull(df_master['hadm_id'])\n",
    "df_master['outcome_critical'] = df_master['outcome_inhospital_mortality'] | df_master[''.join(['outcome_icu_transfer_', str(icu_transfer_timerange), 'h'])]\n",
    "\n",
    "# Sort Master table for further process\n",
    "df_master = df_master.sort_values(['subject_id', 'intime']).reset_index()\n",
    "\n",
    "# Filling subjects NA ethnicity, takes ~17s\n",
    "df_master = fill_na_ethnicity(df_master)"
   ]
  },
  {
   "cell_type": "markdown",
   "metadata": {},
   "source": [
    "## Health Utilization"
   ]
  },
  {
   "cell_type": "code",
   "execution_count": 64,
   "metadata": {
    "tags": []
   },
   "outputs": [
    {
     "name": "stdout",
     "output_type": "stream",
     "text": [
      "Process: 425087/425087\r"
     ]
    }
   ],
   "source": [
    "## Generate past ED visits\n",
    "df_master = generate_past_ed_visits(df_master, timerange=30)\n",
    "df_master = generate_past_ed_visits(df_master, timerange=90)\n",
    "df_master = generate_past_ed_visits(df_master, timerange=365)"
   ]
  },
  {
   "cell_type": "code",
   "execution_count": 65,
   "metadata": {
    "tags": []
   },
   "outputs": [
    {
     "name": "stdout",
     "output_type": "stream",
     "text": [
      "Process: 425087/425087\r"
     ]
    }
   ],
   "source": [
    "## Oucome:  future ED revisit variables\n",
    "df_master = generate_future_ed_visits(df_master, next_ed_visit_timerange)"
   ]
  },
  {
   "cell_type": "code",
   "execution_count": 66,
   "metadata": {
    "tags": []
   },
   "outputs": [
    {
     "name": "stdout",
     "output_type": "stream",
     "text": [
      "Process: 425087/425087\r"
     ]
    }
   ],
   "source": [
    "## Generate past admissions\n",
    "df_master = generate_past_admissions(df_master, df_admissions, timerange=30)\n",
    "df_master = generate_past_admissions(df_master, df_admissions, timerange=90)\n",
    "df_master = generate_past_admissions(df_master, df_admissions, timerange=365)"
   ]
  },
  {
   "cell_type": "code",
   "execution_count": 67,
   "metadata": {
    "tags": []
   },
   "outputs": [
    {
     "name": "stdout",
     "output_type": "stream",
     "text": [
      "Process: 425087/425087\r"
     ]
    }
   ],
   "source": [
    "## Generate past icu visits\n",
    "df_master  = generate_past_icu_visits(df_master, df_icustays, timerange=30)\n",
    "df_master  = generate_past_icu_visits(df_master, df_icustays, timerange=90)\n",
    "df_master  = generate_past_icu_visits(df_master, df_icustays, timerange=365)"
   ]
  },
  {
   "cell_type": "code",
   "execution_count": 68,
   "metadata": {
    "tags": []
   },
   "outputs": [
    {
     "name": "stdout",
     "output_type": "stream",
     "text": [
      "Process: 425087/425087\r"
     ]
    }
   ],
   "source": [
    "## Generate numeric timedelta variables\n",
    "df_master = generate_numeric_timedelta(df_master)"
   ]
  },
  {
   "cell_type": "markdown",
   "metadata": {},
   "source": [
    "## Triage Information"
   ]
  },
  {
   "cell_type": "code",
   "execution_count": 69,
   "metadata": {
    "tags": []
   },
   "outputs": [],
   "source": [
    "## Mergining with triage table, Comment: revise the variable names? triage_*\n",
    "df_master = merge_edstays_triage_on_subject(df_master, df_triage) ## note change to merge master "
   ]
  },
  {
   "cell_type": "code",
   "execution_count": 70,
   "metadata": {
    "tags": []
   },
   "outputs": [],
   "source": [
    "## Encoding 10 chief complaints\n",
    "df_master = encode_chief_complaints(df_master, complaint_dict)"
   ]
  },
  {
   "cell_type": "markdown",
   "metadata": {},
   "source": [
    "## Comorbidities from diagnosis ICD"
   ]
  },
  {
   "cell_type": "code",
   "execution_count": 71,
   "metadata": {},
   "outputs": [
    {
     "name": "stdout",
     "output_type": "stream",
     "text": [
      "Process: 420000/425087\r"
     ]
    }
   ],
   "source": [
    "df_master = commorbidity(df_master, df_diagnoses, df_admissions, timerange = 356*5)"
   ]
  },
  {
   "cell_type": "code",
   "execution_count": 73,
   "metadata": {},
   "outputs": [],
   "source": [
    "df_master.to_csv('df_master_with_comorbidity.csv', index=False)"
   ]
  },
  {
   "cell_type": "code",
   "execution_count": 74,
   "metadata": {
    "tags": []
   },
   "outputs": [
    {
     "name": "stdout",
     "output_type": "stream",
     "text": [
      "Number of unique ICD codes v9:  8657\n",
      "Number of unique ICD codes v9_3digit:  8598\n",
      "Number of unique ICD codes v10:  14956\n"
     ]
    }
   ],
   "source": [
    "# This function takes about 10 min\n",
    "\n",
    "extract_icd_list(df_edstays, df_diagnoses, df_admissions, output_path, timerange = 356*5, version = 'v9')\n",
    "extract_icd_list(df_edstays, df_diagnoses, df_admissions, output_path, timerange = 356*5, version = 'v9_3digit')\n",
    "extract_icd_list(df_edstays, df_diagnoses, df_admissions, output_path, timerange = 356*5, version = 'v10')\n"
   ]
  },
  {
   "cell_type": "code",
   "execution_count": null,
   "metadata": {},
   "outputs": [],
   "source": [
    "print(df_admissions.columns)\n",
    "print(df_diagnoses.columns) \n",
    "print(df_edstays.columns) \n",
    "print(df_medrecon.columns)\n",
    "print(df_pyxis.columns)  "
   ]
  },
  {
   "cell_type": "code",
   "execution_count": null,
   "metadata": {},
   "outputs": [],
   "source": [
    "#print(df_admissions.columns)"
   ]
  },
  {
   "cell_type": "code",
   "execution_count": null,
   "metadata": {},
   "outputs": [],
   "source": [
    "#print(df_diagnoses.columns) "
   ]
  },
  {
   "cell_type": "code",
   "execution_count": null,
   "metadata": {},
   "outputs": [],
   "source": [
    "#print(df_admissions.head())"
   ]
  },
  {
   "cell_type": "markdown",
   "metadata": {},
   "source": [
    "## ED Vital signs"
   ]
  },
  {
   "cell_type": "code",
   "execution_count": 75,
   "metadata": {
    "tags": []
   },
   "outputs": [],
   "source": [
    "df_master = merge_vitalsign_info_on_edstay(df_master, df_vitalsign, options=['last'])"
   ]
  },
  {
   "cell_type": "markdown",
   "metadata": {},
   "source": [
    "## Medication"
   ]
  },
  {
   "cell_type": "code",
   "execution_count": 76,
   "metadata": {
    "tags": []
   },
   "outputs": [],
   "source": [
    "df_master = merge_med_count_on_edstay(df_master, df_pyxis)"
   ]
  },
  {
   "cell_type": "code",
   "execution_count": 77,
   "metadata": {
    "tags": []
   },
   "outputs": [],
   "source": [
    "df_master = merge_medrecon_count_on_edstay(df_master, df_medrecon)"
   ]
  },
  {
   "cell_type": "markdown",
   "metadata": {},
   "source": [
    "## Review the master dataset and output"
   ]
  },
  {
   "cell_type": "code",
   "execution_count": 78,
   "metadata": {},
   "outputs": [],
   "source": [
    "#df_master.head(100).to_csv(os.path.join(output_path, 'master_dataset_part.csv'), index=False)\n",
    "# Full dataset:\n",
    "df_master.to_csv(os.path.join(output_path, 'master_dataset_new.csv'), index=False)"
   ]
  }
 ],
 "metadata": {
  "kernelspec": {
   "display_name": "MIMIC-IV-ED--CODE-main",
   "language": "python",
   "name": "python3"
  },
  "language_info": {
   "codemirror_mode": {
    "name": "ipython",
    "version": 3
   },
   "file_extension": ".py",
   "mimetype": "text/x-python",
   "name": "python",
   "nbconvert_exporter": "python",
   "pygments_lexer": "ipython3",
   "version": "3.8.10"
  }
 },
 "nbformat": 4,
 "nbformat_minor": 4
}
